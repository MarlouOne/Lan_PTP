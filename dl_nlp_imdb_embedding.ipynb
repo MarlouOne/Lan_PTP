{
  "nbformat": 4,
  "nbformat_minor": 0,
  "metadata": {
    "colab": {
      "name": "dl_nlp_imdb_embedding.ipynb",
      "provenance": [],
      "include_colab_link": true
    },
    "kernelspec": {
      "name": "python3",
      "display_name": "Python 3"
    },
    "accelerator": "GPU"
  },
  "cells": [
    {
      "cell_type": "markdown",
      "metadata": {
        "id": "view-in-github",
        "colab_type": "text"
      },
      "source": [
        "<a href=\"https://colab.research.google.com/github/MarlouOne/Lan_PTP/blob/main/dl_nlp_imdb_embedding.ipynb\" target=\"_parent\"><img src=\"https://colab.research.google.com/assets/colab-badge.svg\" alt=\"Open In Colab\"/></a>"
      ]
    },
    {
      "cell_type": "markdown",
      "metadata": {
        "id": "Lv1nORvnYVQn"
      },
      "source": [
        "# Плотное векторное представление слов для определения тональности текста отзывов на фильмы из IMDb (Internet Movie Database) \n",
        "\n",
        "Учебный курс \"[Нейросети для анализа текстов](https://www.asozykin.ru/courses/nnpython)\".\n",
        "\n",
        "Чтобы запускать и редактировать код, сохраните копию этого ноутбука себе (File->Save a copy in Drive...). Свою копию вы сможете изменять и запускать.\n",
        "\n",
        "Не забудьте подключить GPU, чтобы сеть обучалась быстрее (Runtime -> Change Runtime Type -> Hardware Accelerator -> GPU)."
      ]
    },
    {
      "cell_type": "markdown",
      "metadata": {
        "id": "sU_nuqLaTHYg"
      },
      "source": [
        "## Набор данных IMDb movie review\n",
        "\n",
        "[Набор данных IMDb movie review](https://ai.stanford.edu/~amaas/data/sentiment/) создан для задач определения тональности текста. Набор включает отзывы на фильмы с сайта [IMDb](https://www.imdb.com). Отзывы только явно положительные (оценка >= 7) или отрицательные (оценка <= 4), нейтральные отзывы в набор данных не включались.\n",
        "\n",
        "Размер набора данных 50 тыс. отзывов:\n",
        "- Набор данных для обучения - 25 тыс. отзывов\n",
        "- Набор данных для тестирования - 25 тыс. отзывов\n",
        "\n",
        "Количество положительных и отрицательных отзывов одинаковое.\n",
        "\n",
        "Разметка набора данных:\n",
        "- 0 - отзыв отрицательный\n",
        "- 1 - отзыв положительный\n",
        "\n",
        "С точки зрения машинного обучения это задача бинарной классификации.\n",
        "\n",
        "Набор данных описан в статье: [Andrew L. Maas, Raymond E. Daly, Peter T. Pham, Dan Huang, Andrew Y. Ng, and Christopher Potts. (2011). Learning Word Vectors for Sentiment Analysis. The 49th Annual Meeting of the Association for Computational Linguistics (ACL 2011)](https://ai.stanford.edu/~amaas/papers/wvSent_acl2011.pdf)."
      ]
    },
    {
      "cell_type": "markdown",
      "metadata": {
        "id": "YbtGv1ePW6SF"
      },
      "source": [
        "<img src=\"https://www.dropbox.com/s/grd17bkapocb92o/imdb_movie_reviews.png?dl=1\" width=\"600\">\n"
      ]
    },
    {
      "cell_type": "code",
      "metadata": {
        "id": "lpsyhVlJX5XH"
      },
      "source": [
        "from tensorflow.keras.datasets import imdb\n",
        "from tensorflow.keras.models import Sequential\n",
        "from tensorflow.keras.layers import Dense, Embedding, Flatten, Dropout\n",
        "from tensorflow.keras import utils\n",
        "from tensorflow.keras.preprocessing.sequence import pad_sequences\n",
        "import numpy as np\n",
        "import matplotlib.pyplot as plt\n",
        "from google.colab import files\n",
        "%matplotlib inline "
      ],
      "execution_count": null,
      "outputs": []
    },
    {
      "cell_type": "markdown",
      "metadata": {
        "id": "xGDJkdINNWVh"
      },
      "source": [
        "## Загружаем данные"
      ]
    },
    {
      "cell_type": "code",
      "metadata": {
        "id": "kBUUyZ4cbxoM"
      },
      "source": [
        "max_words=10000"
      ],
      "execution_count": null,
      "outputs": []
    },
    {
      "cell_type": "code",
      "metadata": {
        "id": "toRj2Xs1NZgB"
      },
      "source": [
        "(x_train, y_train), (x_test, y_test) = imdb.load_data(num_words=max_words)"
      ],
      "execution_count": null,
      "outputs": []
    },
    {
      "cell_type": "markdown",
      "metadata": {
        "id": "cLwFe4_aaXWP"
      },
      "source": [
        "## Просмотр данных"
      ]
    },
    {
      "cell_type": "markdown",
      "metadata": {
        "id": "0bE25agXLwCp"
      },
      "source": [
        "Рецензия"
      ]
    },
    {
      "cell_type": "code",
      "metadata": {
        "id": "_XeruR8UaZRm",
        "outputId": "8b0a55a2-a0db-4f09-e36b-840b16af018b",
        "colab": {
          "base_uri": "https://localhost:8080/",
          "height": 1000
        }
      },
      "source": [
        "x_train[3]"
      ],
      "execution_count": null,
      "outputs": [
        {
          "output_type": "execute_result",
          "data": {
            "text/plain": [
              "[1,\n",
              " 4,\n",
              " 2,\n",
              " 2,\n",
              " 33,\n",
              " 2804,\n",
              " 4,\n",
              " 2040,\n",
              " 432,\n",
              " 111,\n",
              " 153,\n",
              " 103,\n",
              " 4,\n",
              " 1494,\n",
              " 13,\n",
              " 70,\n",
              " 131,\n",
              " 67,\n",
              " 11,\n",
              " 61,\n",
              " 2,\n",
              " 744,\n",
              " 35,\n",
              " 3715,\n",
              " 761,\n",
              " 61,\n",
              " 5766,\n",
              " 452,\n",
              " 9214,\n",
              " 4,\n",
              " 985,\n",
              " 7,\n",
              " 2,\n",
              " 59,\n",
              " 166,\n",
              " 4,\n",
              " 105,\n",
              " 216,\n",
              " 1239,\n",
              " 41,\n",
              " 1797,\n",
              " 9,\n",
              " 15,\n",
              " 7,\n",
              " 35,\n",
              " 744,\n",
              " 2413,\n",
              " 31,\n",
              " 8,\n",
              " 4,\n",
              " 687,\n",
              " 23,\n",
              " 4,\n",
              " 2,\n",
              " 7339,\n",
              " 6,\n",
              " 3693,\n",
              " 42,\n",
              " 38,\n",
              " 39,\n",
              " 121,\n",
              " 59,\n",
              " 456,\n",
              " 10,\n",
              " 10,\n",
              " 7,\n",
              " 265,\n",
              " 12,\n",
              " 575,\n",
              " 111,\n",
              " 153,\n",
              " 159,\n",
              " 59,\n",
              " 16,\n",
              " 1447,\n",
              " 21,\n",
              " 25,\n",
              " 586,\n",
              " 482,\n",
              " 39,\n",
              " 4,\n",
              " 96,\n",
              " 59,\n",
              " 716,\n",
              " 12,\n",
              " 4,\n",
              " 172,\n",
              " 65,\n",
              " 9,\n",
              " 579,\n",
              " 11,\n",
              " 6004,\n",
              " 4,\n",
              " 1615,\n",
              " 5,\n",
              " 2,\n",
              " 7,\n",
              " 5168,\n",
              " 17,\n",
              " 13,\n",
              " 7064,\n",
              " 12,\n",
              " 19,\n",
              " 6,\n",
              " 464,\n",
              " 31,\n",
              " 314,\n",
              " 11,\n",
              " 2,\n",
              " 6,\n",
              " 719,\n",
              " 605,\n",
              " 11,\n",
              " 8,\n",
              " 202,\n",
              " 27,\n",
              " 310,\n",
              " 4,\n",
              " 3772,\n",
              " 3501,\n",
              " 8,\n",
              " 2722,\n",
              " 58,\n",
              " 10,\n",
              " 10,\n",
              " 537,\n",
              " 2116,\n",
              " 180,\n",
              " 40,\n",
              " 14,\n",
              " 413,\n",
              " 173,\n",
              " 7,\n",
              " 263,\n",
              " 112,\n",
              " 37,\n",
              " 152,\n",
              " 377,\n",
              " 4,\n",
              " 537,\n",
              " 263,\n",
              " 846,\n",
              " 579,\n",
              " 178,\n",
              " 54,\n",
              " 75,\n",
              " 71,\n",
              " 476,\n",
              " 36,\n",
              " 413,\n",
              " 263,\n",
              " 2504,\n",
              " 182,\n",
              " 5,\n",
              " 17,\n",
              " 75,\n",
              " 2306,\n",
              " 922,\n",
              " 36,\n",
              " 279,\n",
              " 131,\n",
              " 2895,\n",
              " 17,\n",
              " 2867,\n",
              " 42,\n",
              " 17,\n",
              " 35,\n",
              " 921,\n",
              " 2,\n",
              " 192,\n",
              " 5,\n",
              " 1219,\n",
              " 3890,\n",
              " 19,\n",
              " 2,\n",
              " 217,\n",
              " 4122,\n",
              " 1710,\n",
              " 537,\n",
              " 2,\n",
              " 1236,\n",
              " 5,\n",
              " 736,\n",
              " 10,\n",
              " 10,\n",
              " 61,\n",
              " 403,\n",
              " 9,\n",
              " 2,\n",
              " 40,\n",
              " 61,\n",
              " 4494,\n",
              " 5,\n",
              " 27,\n",
              " 4494,\n",
              " 159,\n",
              " 90,\n",
              " 263,\n",
              " 2311,\n",
              " 4319,\n",
              " 309,\n",
              " 8,\n",
              " 178,\n",
              " 5,\n",
              " 82,\n",
              " 4319,\n",
              " 4,\n",
              " 65,\n",
              " 15,\n",
              " 9225,\n",
              " 145,\n",
              " 143,\n",
              " 5122,\n",
              " 12,\n",
              " 7039,\n",
              " 537,\n",
              " 746,\n",
              " 537,\n",
              " 537,\n",
              " 15,\n",
              " 7979,\n",
              " 4,\n",
              " 2,\n",
              " 594,\n",
              " 7,\n",
              " 5168,\n",
              " 94,\n",
              " 9096,\n",
              " 3987,\n",
              " 2,\n",
              " 11,\n",
              " 2,\n",
              " 4,\n",
              " 538,\n",
              " 7,\n",
              " 1795,\n",
              " 246,\n",
              " 2,\n",
              " 9,\n",
              " 2,\n",
              " 11,\n",
              " 635,\n",
              " 14,\n",
              " 9,\n",
              " 51,\n",
              " 408,\n",
              " 12,\n",
              " 94,\n",
              " 318,\n",
              " 1382,\n",
              " 12,\n",
              " 47,\n",
              " 6,\n",
              " 2683,\n",
              " 936,\n",
              " 5,\n",
              " 6307,\n",
              " 2,\n",
              " 19,\n",
              " 49,\n",
              " 7,\n",
              " 4,\n",
              " 1885,\n",
              " 2,\n",
              " 1118,\n",
              " 25,\n",
              " 80,\n",
              " 126,\n",
              " 842,\n",
              " 10,\n",
              " 10,\n",
              " 2,\n",
              " 2,\n",
              " 4726,\n",
              " 27,\n",
              " 4494,\n",
              " 11,\n",
              " 1550,\n",
              " 3633,\n",
              " 159,\n",
              " 27,\n",
              " 341,\n",
              " 29,\n",
              " 2733,\n",
              " 19,\n",
              " 4185,\n",
              " 173,\n",
              " 7,\n",
              " 90,\n",
              " 2,\n",
              " 8,\n",
              " 30,\n",
              " 11,\n",
              " 4,\n",
              " 1784,\n",
              " 86,\n",
              " 1117,\n",
              " 8,\n",
              " 3261,\n",
              " 46,\n",
              " 11,\n",
              " 2,\n",
              " 21,\n",
              " 29,\n",
              " 9,\n",
              " 2841,\n",
              " 23,\n",
              " 4,\n",
              " 1010,\n",
              " 2,\n",
              " 793,\n",
              " 6,\n",
              " 2,\n",
              " 1386,\n",
              " 1830,\n",
              " 10,\n",
              " 10,\n",
              " 246,\n",
              " 50,\n",
              " 9,\n",
              " 6,\n",
              " 2750,\n",
              " 1944,\n",
              " 746,\n",
              " 90,\n",
              " 29,\n",
              " 2,\n",
              " 8,\n",
              " 124,\n",
              " 4,\n",
              " 882,\n",
              " 4,\n",
              " 882,\n",
              " 496,\n",
              " 27,\n",
              " 2,\n",
              " 2213,\n",
              " 537,\n",
              " 121,\n",
              " 127,\n",
              " 1219,\n",
              " 130,\n",
              " 5,\n",
              " 29,\n",
              " 494,\n",
              " 8,\n",
              " 124,\n",
              " 4,\n",
              " 882,\n",
              " 496,\n",
              " 4,\n",
              " 341,\n",
              " 7,\n",
              " 27,\n",
              " 846,\n",
              " 10,\n",
              " 10,\n",
              " 29,\n",
              " 9,\n",
              " 1906,\n",
              " 8,\n",
              " 97,\n",
              " 6,\n",
              " 236,\n",
              " 2,\n",
              " 1311,\n",
              " 8,\n",
              " 4,\n",
              " 2,\n",
              " 7,\n",
              " 31,\n",
              " 7,\n",
              " 2,\n",
              " 91,\n",
              " 2,\n",
              " 3987,\n",
              " 70,\n",
              " 4,\n",
              " 882,\n",
              " 30,\n",
              " 579,\n",
              " 42,\n",
              " 9,\n",
              " 12,\n",
              " 32,\n",
              " 11,\n",
              " 537,\n",
              " 10,\n",
              " 10,\n",
              " 11,\n",
              " 14,\n",
              " 65,\n",
              " 44,\n",
              " 537,\n",
              " 75,\n",
              " 2,\n",
              " 1775,\n",
              " 3353,\n",
              " 2,\n",
              " 1846,\n",
              " 4,\n",
              " 2,\n",
              " 7,\n",
              " 154,\n",
              " 5,\n",
              " 4,\n",
              " 518,\n",
              " 53,\n",
              " 2,\n",
              " 2,\n",
              " 7,\n",
              " 3211,\n",
              " 882,\n",
              " 11,\n",
              " 399,\n",
              " 38,\n",
              " 75,\n",
              " 257,\n",
              " 3807,\n",
              " 19,\n",
              " 2,\n",
              " 17,\n",
              " 29,\n",
              " 456,\n",
              " 4,\n",
              " 65,\n",
              " 7,\n",
              " 27,\n",
              " 205,\n",
              " 113,\n",
              " 10,\n",
              " 10,\n",
              " 2,\n",
              " 4,\n",
              " 2,\n",
              " 2,\n",
              " 9,\n",
              " 242,\n",
              " 4,\n",
              " 91,\n",
              " 1202,\n",
              " 2,\n",
              " 5,\n",
              " 2070,\n",
              " 307,\n",
              " 22,\n",
              " 7,\n",
              " 5168,\n",
              " 126,\n",
              " 93,\n",
              " 40,\n",
              " 2,\n",
              " 13,\n",
              " 188,\n",
              " 1076,\n",
              " 3222,\n",
              " 19,\n",
              " 4,\n",
              " 2,\n",
              " 7,\n",
              " 2348,\n",
              " 537,\n",
              " 23,\n",
              " 53,\n",
              " 537,\n",
              " 21,\n",
              " 82,\n",
              " 40,\n",
              " 2,\n",
              " 13,\n",
              " 2,\n",
              " 14,\n",
              " 280,\n",
              " 13,\n",
              " 219,\n",
              " 4,\n",
              " 2,\n",
              " 431,\n",
              " 758,\n",
              " 859,\n",
              " 4,\n",
              " 953,\n",
              " 1052,\n",
              " 2,\n",
              " 7,\n",
              " 5991,\n",
              " 5,\n",
              " 94,\n",
              " 40,\n",
              " 25,\n",
              " 238,\n",
              " 60,\n",
              " 2,\n",
              " 4,\n",
              " 2,\n",
              " 804,\n",
              " 2,\n",
              " 7,\n",
              " 4,\n",
              " 9941,\n",
              " 132,\n",
              " 8,\n",
              " 67,\n",
              " 6,\n",
              " 22,\n",
              " 15,\n",
              " 9,\n",
              " 283,\n",
              " 8,\n",
              " 5168,\n",
              " 14,\n",
              " 31,\n",
              " 9,\n",
              " 242,\n",
              " 955,\n",
              " 48,\n",
              " 25,\n",
              " 279,\n",
              " 2,\n",
              " 23,\n",
              " 12,\n",
              " 1685,\n",
              " 195,\n",
              " 25,\n",
              " 238,\n",
              " 60,\n",
              " 796,\n",
              " 2,\n",
              " 4,\n",
              " 671,\n",
              " 7,\n",
              " 2804,\n",
              " 5,\n",
              " 4,\n",
              " 559,\n",
              " 154,\n",
              " 888,\n",
              " 7,\n",
              " 726,\n",
              " 50,\n",
              " 26,\n",
              " 49,\n",
              " 7008,\n",
              " 15,\n",
              " 566,\n",
              " 30,\n",
              " 579,\n",
              " 21,\n",
              " 64,\n",
              " 2574]"
            ]
          },
          "metadata": {
            "tags": []
          },
          "execution_count": 32
        }
      ]
    },
    {
      "cell_type": "markdown",
      "metadata": {
        "id": "Xdj6uFFaLzOx"
      },
      "source": [
        "Правильный ответ"
      ]
    },
    {
      "cell_type": "code",
      "metadata": {
        "id": "1tUhNPuRL1Kc",
        "outputId": "aa907ce1-64b9-4783-f76d-6c17935c6cdd",
        "colab": {
          "base_uri": "https://localhost:8080/",
          "height": 34
        }
      },
      "source": [
        "y_train[3]"
      ],
      "execution_count": null,
      "outputs": [
        {
          "output_type": "execute_result",
          "data": {
            "text/plain": [
              "1"
            ]
          },
          "metadata": {
            "tags": []
          },
          "execution_count": 33
        }
      ]
    },
    {
      "cell_type": "markdown",
      "metadata": {
        "id": "kiA7X0oWaS9Z"
      },
      "source": [
        "## Подготовка данных для обучения"
      ]
    },
    {
      "cell_type": "code",
      "metadata": {
        "id": "PiZZxRZhMVWv"
      },
      "source": [
        "maxlen = 200"
      ],
      "execution_count": null,
      "outputs": []
    },
    {
      "cell_type": "code",
      "metadata": {
        "id": "0YrjnapvMVwf"
      },
      "source": [
        "x_train = pad_sequences(x_train, maxlen=maxlen, padding='post')\n",
        "x_test = pad_sequences(x_test, maxlen=maxlen, padding='post')"
      ],
      "execution_count": null,
      "outputs": []
    },
    {
      "cell_type": "code",
      "metadata": {
        "id": "SnANlxwYMcNX",
        "outputId": "73e59938-511a-494a-d5ed-c9aa4d739dd6",
        "colab": {
          "base_uri": "https://localhost:8080/",
          "height": 343
        }
      },
      "source": [
        "x_train[3]"
      ],
      "execution_count": null,
      "outputs": [
        {
          "output_type": "execute_result",
          "data": {
            "text/plain": [
              "array([   4,  341,    7,   27,  846,   10,   10,   29,    9, 1906,    8,\n",
              "         97,    6,  236,    2, 1311,    8,    4,    2,    7,   31,    7,\n",
              "          2,   91,    2, 3987,   70,    4,  882,   30,  579,   42,    9,\n",
              "         12,   32,   11,  537,   10,   10,   11,   14,   65,   44,  537,\n",
              "         75,    2, 1775, 3353,    2, 1846,    4,    2,    7,  154,    5,\n",
              "          4,  518,   53,    2,    2,    7, 3211,  882,   11,  399,   38,\n",
              "         75,  257, 3807,   19,    2,   17,   29,  456,    4,   65,    7,\n",
              "         27,  205,  113,   10,   10,    2,    4,    2,    2,    9,  242,\n",
              "          4,   91, 1202,    2,    5, 2070,  307,   22,    7, 5168,  126,\n",
              "         93,   40,    2,   13,  188, 1076, 3222,   19,    4,    2,    7,\n",
              "       2348,  537,   23,   53,  537,   21,   82,   40,    2,   13,    2,\n",
              "         14,  280,   13,  219,    4,    2,  431,  758,  859,    4,  953,\n",
              "       1052,    2,    7, 5991,    5,   94,   40,   25,  238,   60,    2,\n",
              "          4,    2,  804,    2,    7,    4, 9941,  132,    8,   67,    6,\n",
              "         22,   15,    9,  283,    8, 5168,   14,   31,    9,  242,  955,\n",
              "         48,   25,  279,    2,   23,   12, 1685,  195,   25,  238,   60,\n",
              "        796,    2,    4,  671,    7, 2804,    5,    4,  559,  154,  888,\n",
              "          7,  726,   50,   26,   49, 7008,   15,  566,   30,  579,   21,\n",
              "         64, 2574], dtype=int32)"
            ]
          },
          "metadata": {
            "tags": []
          },
          "execution_count": 36
        }
      ]
    },
    {
      "cell_type": "code",
      "metadata": {
        "id": "Q-lsDYCcafBy",
        "outputId": "43f9a3c1-b592-452c-f3f5-3546a4d6ad52",
        "colab": {
          "base_uri": "https://localhost:8080/",
          "height": 34
        }
      },
      "source": [
        "y_train[3]"
      ],
      "execution_count": null,
      "outputs": [
        {
          "output_type": "execute_result",
          "data": {
            "text/plain": [
              "1"
            ]
          },
          "metadata": {
            "tags": []
          },
          "execution_count": 37
        }
      ]
    },
    {
      "cell_type": "markdown",
      "metadata": {
        "id": "rhSLT9WjTeMk"
      },
      "source": [
        "## Создание нейронной сети"
      ]
    },
    {
      "cell_type": "code",
      "metadata": {
        "id": "Lrzx1e4xTgzL"
      },
      "source": [
        "model = Sequential()\n",
        "model.add(Embedding(max_words, 2, input_length=maxlen))\n",
        "model.add(Dropout(0.25))\n",
        "model.add(Flatten())\n",
        "model.add(Dense(1, activation='sigmoid'))"
      ],
      "execution_count": null,
      "outputs": []
    },
    {
      "cell_type": "code",
      "metadata": {
        "id": "u1yNam-uSunE"
      },
      "source": [
        "model.compile(optimizer='adam', \n",
        "              loss='binary_crossentropy', \n",
        "              metrics=['accuracy'])"
      ],
      "execution_count": null,
      "outputs": []
    },
    {
      "cell_type": "markdown",
      "metadata": {
        "id": "9CHZwMttYMTb"
      },
      "source": [
        "## Обучаем нейронную сеть"
      ]
    },
    {
      "cell_type": "code",
      "metadata": {
        "id": "AkmNH7ahYLyc",
        "outputId": "2591b592-f332-497b-9491-4577504bd5c1",
        "colab": {
          "base_uri": "https://localhost:8080/",
          "height": 568
        }
      },
      "source": [
        "history = model.fit(x_train, \n",
        "                    y_train, \n",
        "                    epochs=15,\n",
        "                    batch_size=128,\n",
        "                    validation_split=0.1)"
      ],
      "execution_count": null,
      "outputs": [
        {
          "output_type": "stream",
          "text": [
            "Train on 22500 samples, validate on 2500 samples\n",
            "Epoch 1/15\n",
            "22500/22500 [==============================] - 1s 32us/sample - loss: 0.6917 - acc: 0.5206 - val_loss: 0.6854 - val_acc: 0.6048\n",
            "Epoch 2/15\n",
            "22500/22500 [==============================] - 1s 28us/sample - loss: 0.6307 - acc: 0.7133 - val_loss: 0.5418 - val_acc: 0.7896\n",
            "Epoch 3/15\n",
            "22500/22500 [==============================] - 1s 26us/sample - loss: 0.4482 - acc: 0.8316 - val_loss: 0.3975 - val_acc: 0.8460\n",
            "Epoch 4/15\n",
            "22500/22500 [==============================] - 1s 26us/sample - loss: 0.3428 - acc: 0.8719 - val_loss: 0.3443 - val_acc: 0.8640\n",
            "Epoch 5/15\n",
            "22500/22500 [==============================] - 1s 28us/sample - loss: 0.2940 - acc: 0.8883 - val_loss: 0.3183 - val_acc: 0.8708\n",
            "Epoch 6/15\n",
            "22500/22500 [==============================] - 1s 27us/sample - loss: 0.2619 - acc: 0.9012 - val_loss: 0.3038 - val_acc: 0.8768\n",
            "Epoch 7/15\n",
            "22500/22500 [==============================] - 1s 26us/sample - loss: 0.2389 - acc: 0.9120 - val_loss: 0.2937 - val_acc: 0.8792\n",
            "Epoch 8/15\n",
            "22500/22500 [==============================] - 1s 27us/sample - loss: 0.2234 - acc: 0.9174 - val_loss: 0.2895 - val_acc: 0.8860\n",
            "Epoch 9/15\n",
            "22500/22500 [==============================] - 1s 26us/sample - loss: 0.2088 - acc: 0.9215 - val_loss: 0.2855 - val_acc: 0.8840\n",
            "Epoch 10/15\n",
            "22500/22500 [==============================] - 1s 27us/sample - loss: 0.1955 - acc: 0.9279 - val_loss: 0.2824 - val_acc: 0.8844\n",
            "Epoch 11/15\n",
            "22500/22500 [==============================] - 1s 27us/sample - loss: 0.1850 - acc: 0.9332 - val_loss: 0.2821 - val_acc: 0.8836\n",
            "Epoch 12/15\n",
            "22500/22500 [==============================] - 1s 26us/sample - loss: 0.1763 - acc: 0.9380 - val_loss: 0.2827 - val_acc: 0.8832\n",
            "Epoch 13/15\n",
            "22500/22500 [==============================] - 1s 27us/sample - loss: 0.1698 - acc: 0.9401 - val_loss: 0.2832 - val_acc: 0.8836\n",
            "Epoch 14/15\n",
            "22500/22500 [==============================] - 1s 27us/sample - loss: 0.1623 - acc: 0.9427 - val_loss: 0.2845 - val_acc: 0.8852\n",
            "Epoch 15/15\n",
            "22500/22500 [==============================] - 1s 27us/sample - loss: 0.1558 - acc: 0.9450 - val_loss: 0.2867 - val_acc: 0.8872\n"
          ],
          "name": "stdout"
        }
      ]
    },
    {
      "cell_type": "code",
      "metadata": {
        "id": "bYsG9bOZSeOu",
        "outputId": "66e6ebb5-926f-4275-e92f-9500947b98e0",
        "colab": {
          "base_uri": "https://localhost:8080/",
          "height": 283
        }
      },
      "source": [
        "plt.plot(history.history['acc'], \n",
        "         label='Доля верных ответов на обучающем наборе')\n",
        "plt.plot(history.history['val_acc'], \n",
        "         label='Доля верных ответов на проверочном наборе')\n",
        "plt.xlabel('Эпоха обучения')\n",
        "plt.ylabel('Доля верных ответов')\n",
        "plt.legend()\n",
        "plt.show()"
      ],
      "execution_count": null,
      "outputs": [
        {
          "output_type": "display_data",
          "data": {
            "image/png": "[encoded data removed]",
            "text/plain": [
              "<Figure size 432x288 with 1 Axes>"
            ]
          },
          "metadata": {
            "tags": []
          }
        }
      ]
    },
    {
      "cell_type": "markdown",
      "metadata": {
        "id": "HnnIy3JlEGqW"
      },
      "source": [
        "## Проверяем работу сети на тестовом наборе данных"
      ]
    },
    {
      "cell_type": "code",
      "metadata": {
        "id": "J1_ilV14EKBO",
        "outputId": "42114818-4651-4370-f90b-3ea74a4c535e",
        "colab": {
          "base_uri": "https://localhost:8080/",
          "height": 34
        }
      },
      "source": [
        "scores = model.evaluate(x_test, y_test, verbose=1)"
      ],
      "execution_count": null,
      "outputs": [
        {
          "output_type": "stream",
          "text": [
            "25000/25000 [==============================] - 1s 38us/sample - loss: 0.3030 - acc: 0.8733\n"
          ],
          "name": "stdout"
        }
      ]
    },
    {
      "cell_type": "markdown",
      "metadata": {
        "id": "faF79x7EX6K6"
      },
      "source": [
        "## Исследуем обученное плотное векторное представление слов"
      ]
    },
    {
      "cell_type": "markdown",
      "metadata": {
        "id": "P1YSM6QqYQ4E"
      },
      "source": [
        "**Получаем матрицу плотных векторных представлений слов**"
      ]
    },
    {
      "cell_type": "code",
      "metadata": {
        "id": "Kl239SWNX5lK"
      },
      "source": [
        "embedding_matrix = model.layers[0].get_weights()[0]"
      ],
      "execution_count": null,
      "outputs": []
    },
    {
      "cell_type": "code",
      "metadata": {
        "id": "AlkreMk-YPyE",
        "outputId": "339bf826-6d68-4172-9655-0243ff19e9cb",
        "colab": {
          "base_uri": "https://localhost:8080/",
          "height": 103
        }
      },
      "source": [
        "embedding_matrix[:5]"
      ],
      "execution_count": null,
      "outputs": [
        {
          "output_type": "execute_result",
          "data": {
            "text/plain": [
              "array([[-0.01810081, -0.01080754],\n",
              "       [ 0.08826496, -0.08724205],\n",
              "       [ 0.0278171 , -0.02975242],\n",
              "       [ 0.01640681, -0.03693285],\n",
              "       [-0.01309797,  0.03457265]], dtype=float32)"
            ]
          },
          "metadata": {
            "tags": []
          },
          "execution_count": 44
        }
      ]
    },
    {
      "cell_type": "markdown",
      "metadata": {
        "id": "LeKIWHmmZIHc"
      },
      "source": [
        "**Загружаем словарь с номерами слов**"
      ]
    },
    {
      "cell_type": "code",
      "metadata": {
        "id": "WQTq41-XYZsA"
      },
      "source": [
        "word_index_org = imdb.get_word_index()"
      ],
      "execution_count": null,
      "outputs": []
    },
    {
      "cell_type": "markdown",
      "metadata": {
        "id": "1DT7yMugFFaO"
      },
      "source": [
        "Дополняем словарь служебными символами"
      ]
    },
    {
      "cell_type": "code",
      "metadata": {
        "id": "KrslT0jyB0wn"
      },
      "source": [
        "word_index = dict()\n",
        "for word,number in word_index_org.items():\n",
        "    word_index[word] = number + 3\n",
        "word_index[\"<Заполнитель>\"] = 0\n",
        "word_index[\"<Начало последовательности>\"] = 1\n",
        "word_index[\"<Неизвестное слово>\"] = 2  \n",
        "word_index[\"<Не используется>\"] = 3"
      ],
      "execution_count": null,
      "outputs": []
    },
    {
      "cell_type": "markdown",
      "metadata": {
        "id": "y5bAAXxQZV7e"
      },
      "source": [
        "**Ищем векторы для слов**"
      ]
    },
    {
      "cell_type": "code",
      "metadata": {
        "id": "AG3-ADPaZVeN",
        "outputId": "bbe1d694-af66-4224-d0c4-5815cc5b321f",
        "colab": {
          "base_uri": "https://localhost:8080/",
          "height": 51
        }
      },
      "source": [
        "word = 'good'\n",
        "word_number = word_index[word]\n",
        "print('Номер слова', word_number)\n",
        "print('Вектор для слова', embedding_matrix[word_number])"
      ],
      "execution_count": null,
      "outputs": [
        {
          "output_type": "stream",
          "text": [
            "Номер слова 52\n",
            "Вектор для слова [-0.16588722  0.15730934]\n"
          ],
          "name": "stdout"
        }
      ]
    },
    {
      "cell_type": "markdown",
      "metadata": {
        "id": "xeNCUiGqaAQp"
      },
      "source": [
        "## Сохраняем обученные плотные векторные представления в файл"
      ]
    },
    {
      "cell_type": "markdown",
      "metadata": {
        "id": "s66eNJRFaJN4"
      },
      "source": [
        "**Составляем реверсивный словарь токенов (слов)**"
      ]
    },
    {
      "cell_type": "code",
      "metadata": {
        "id": "BA7mR8OtaHpa"
      },
      "source": [
        "reverse_word_index = dict()\n",
        "for key, value in word_index.items():\n",
        "    reverse_word_index[value] = key"
      ],
      "execution_count": null,
      "outputs": []
    },
    {
      "cell_type": "markdown",
      "metadata": {
        "id": "2tRTW--baRaj"
      },
      "source": [
        "**Записываем плотные векторные представления в файл**"
      ]
    },
    {
      "cell_type": "code",
      "metadata": {
        "id": "paNKJMEeD6Q5"
      },
      "source": [
        "filename = 'imdb_embeddings.csv'"
      ],
      "execution_count": null,
      "outputs": []
    },
    {
      "cell_type": "code",
      "metadata": {
        "id": "6W2Lr6vjD_8L"
      },
      "source": [
        "with open(filename, 'w') as f:\n",
        "    for word_num in range(max_words):\n",
        "      word = reverse_word_index[word_num]\n",
        "      vec = embedding_matrix[word_num]\n",
        "      f.write(word + \",\")\n",
        "      f.write(','.join([str(x) for x in vec]) + \"\\n\")"
      ],
      "execution_count": null,
      "outputs": []
    },
    {
      "cell_type": "code",
      "metadata": {
        "id": "cCk5inFYEQxh",
        "outputId": "eb717eda-1065-4d97-d270-b4a066a4f3ce",
        "colab": {
          "base_uri": "https://localhost:8080/",
          "height": 360
        }
      },
      "source": [
        "!head -n 20 $filename"
      ],
      "execution_count": null,
      "outputs": [
        {
          "output_type": "stream",
          "text": [
            "<Заполнитель>,-0.018100811,-0.010807536\n",
            "<Начало последовательности>,0.08826496,-0.08724205\n",
            "<Неизвестное слово>,0.027817102,-0.029752418\n",
            "<Не используется>,0.016406808,-0.03693285\n",
            "the,-0.013097967,0.034572646\n",
            "and,-0.033376634,0.08939072\n",
            "a,-0.0010535739,0.010263854\n",
            "of,-0.0076864795,-0.031185996\n",
            "to,0.005916276,0.010063415\n",
            "is,-0.029501064,0.04398097\n",
            "br,0.032622937,-0.012411324\n",
            "in,-0.00853795,0.014011138\n",
            "it,-0.030156253,0.084226154\n",
            "i,-0.014873622,0.010922928\n",
            "this,-0.010680796,-0.047810882\n",
            "that,0.020756848,0.01780349\n",
            "was,0.012138906,-0.05804113\n",
            "as,-0.023956735,-0.0013690474\n",
            "for,-0.0029819263,-0.038603384\n",
            "with,-0.010972076,-0.0077637797\n"
          ],
          "name": "stdout"
        }
      ]
    },
    {
      "cell_type": "markdown",
      "metadata": {
        "id": "_NoZZWumbczs"
      },
      "source": [
        "**Сохраняем файл на локальный компьютер**"
      ]
    },
    {
      "cell_type": "code",
      "metadata": {
        "id": "hM0mElLcbcRk"
      },
      "source": [
        "files.download('imdb_embeddings.csv')"
      ],
      "execution_count": null,
      "outputs": []
    },
    {
      "cell_type": "markdown",
      "metadata": {
        "id": "A21EOGqYSaj-"
      },
      "source": [
        "## Визуализация плотных векторных представлений слов"
      ]
    },
    {
      "cell_type": "code",
      "metadata": {
        "id": "N1Gm1nMhSFZY",
        "outputId": "cf6e4e5e-4baf-48f1-d523-fac09ccf503f",
        "colab": {
          "base_uri": "https://localhost:8080/",
          "height": 286
        }
      },
      "source": [
        "plt.scatter(embedding_matrix[:,0], embedding_matrix[:,1])"
      ],
      "execution_count": null,
      "outputs": [
        {
          "output_type": "execute_result",
          "data": {
            "text/plain": [
              "<matplotlib.collections.PathCollection at 0x7f34adfd4358>"
            ]
          },
          "metadata": {
            "tags": []
          },
          "execution_count": 54
        },
        {
          "output_type": "display_data",
          "data": {
            "image/png": "[encoded data removed]",
            "text/plain": [
              "<Figure size 432x288 with 1 Axes>"
            ]
          },
          "metadata": {
            "tags": []
          }
        }
      ]
    },
    {
      "cell_type": "markdown",
      "metadata": {
        "id": "yBnIvn28geiZ"
      },
      "source": [
        "Выбираем коды слов, по которым можно определить тональность отзыва"
      ]
    },
    {
      "cell_type": "code",
      "metadata": {
        "id": "rBFWUSNqSha8",
        "outputId": "907a3d7d-ca46-4b22-8c11-44aeb521bef2",
        "colab": {
          "base_uri": "https://localhost:8080/",
          "height": 34
        }
      },
      "source": [
        "review = ['brilliant', 'fantastic', 'amazing', 'good',\n",
        "          'bad', 'awful','crap', 'terrible', 'trash']\n",
        "enc_review = []\n",
        "for word in review:\n",
        "    enc_review.append(word_index[word])\n",
        "enc_review"
      ],
      "execution_count": null,
      "outputs": [
        {
          "output_type": "execute_result",
          "data": {
            "text/plain": [
              "[530, 777, 480, 52, 78, 373, 595, 394, 1157]"
            ]
          },
          "metadata": {
            "tags": []
          },
          "execution_count": 55
        }
      ]
    },
    {
      "cell_type": "markdown",
      "metadata": {
        "id": "yBog52SfgmjD"
      },
      "source": [
        "Получаем векторное представление интересующих нас слов"
      ]
    },
    {
      "cell_type": "code",
      "metadata": {
        "id": "4ssQqyD_S2Wv",
        "outputId": "22a8fb46-02fb-4aca-f434-539873c42dd1",
        "colab": {
          "base_uri": "https://localhost:8080/",
          "height": 171
        }
      },
      "source": [
        "review_vectors = embedding_matrix[enc_review]\n",
        "review_vectors"
      ],
      "execution_count": null,
      "outputs": [
        {
          "output_type": "execute_result",
          "data": {
            "text/plain": [
              "array([[-0.48637104,  0.47641388],\n",
              "       [-0.52597755,  0.5208416 ],\n",
              "       [-0.5749784 ,  0.54873264],\n",
              "       [-0.16588722,  0.15730934],\n",
              "       [ 0.49321252, -0.41877759],\n",
              "       [ 1.0940588 , -1.0372338 ],\n",
              "       [ 0.57186013, -0.42061222],\n",
              "       [ 0.74706984, -0.6985454 ],\n",
              "       [ 0.24538721, -0.17148855]], dtype=float32)"
            ]
          },
          "metadata": {
            "tags": []
          },
          "execution_count": 56
        }
      ]
    },
    {
      "cell_type": "markdown",
      "metadata": {
        "id": "CIqIGhrXgrP_"
      },
      "source": [
        "Визуализация обученного плотного векторного представления слов, по которым можно определить эмоциональную окраску текста"
      ]
    },
    {
      "cell_type": "code",
      "metadata": {
        "id": "AfIMR56sTYT6",
        "outputId": "30f5076d-4a7b-4b30-96e9-ed6160753bbe",
        "colab": {
          "base_uri": "https://localhost:8080/",
          "height": 269
        }
      },
      "source": [
        "plt.scatter(review_vectors[:,0], review_vectors[:,1])\n",
        "for i, txt in enumerate(review):\n",
        "    plt.annotate(txt, (review_vectors[i,0], review_vectors[i,1]))"
      ],
      "execution_count": null,
      "outputs": [
        {
          "output_type": "display_data",
          "data": {
            "image/png": "[encoded data removed]",
            "text/plain": [
              "<Figure size 432x288 with 1 Axes>"
            ]
          },
          "metadata": {
            "tags": []
          }
        }
      ]
    }
  ]
}